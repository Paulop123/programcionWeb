{
  "nbformat": 4,
  "nbformat_minor": 0,
  "metadata": {
    "colab": {
      "provenance": [],
      "include_colab_link": true
    },
    "kernelspec": {
      "name": "python3",
      "display_name": "Python 3"
    },
    "language_info": {
      "name": "python"
    }
  },
  "cells": [
    {
      "cell_type": "markdown",
      "metadata": {
        "id": "view-in-github",
        "colab_type": "text"
      },
      "source": [
        "<a href=\"https://colab.research.google.com/github/Paulop123/programcionWeb/blob/main/IMC.ipynb\" target=\"_parent\"><img src=\"https://colab.research.google.com/assets/colab-badge.svg\" alt=\"Open In Colab\"/></a>"
      ]
    },
    {
      "cell_type": "markdown",
      "source": [
        "## Cálculo del indice de la masa corporal"
      ],
      "metadata": {
        "id": "OwRzpGYwGLde"
      }
    },
    {
      "cell_type": "code",
      "execution_count": 1,
      "metadata": {
        "colab": {
          "base_uri": "https://localhost:8080/"
        },
        "cellView": "form",
        "id": "Jc7jAYkZGIxT",
        "outputId": "b2aad5e0-d3b4-4280-8360-d67dd23ddcb5"
      },
      "outputs": [
        {
          "output_type": "stream",
          "name": "stdout",
          "text": [
            "20.061728395061728\n"
          ]
        }
      ],
      "source": [
        "#@title Cálculo del IMC { run: \"auto\" }\n",
        "estatura = 1.80 #@param {type:\"number\"}\n",
        "peso = 65 #@param {type:\"number\"}\n",
        "imc=peso/estatura**2\n",
        "print(imc)\n"
      ]
    },
    {
      "cell_type": "markdown",
      "source": [],
      "metadata": {
        "id": "przfrtoJGKRx"
      }
    }
  ]
}